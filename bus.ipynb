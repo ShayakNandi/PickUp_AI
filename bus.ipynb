{
 "cells": [
  {
   "cell_type": "code",
   "execution_count": 1,
   "id": "9f19d7c0-613c-472a-ada8-3cb5d4e865b0",
   "metadata": {},
   "outputs": [
    {
     "name": "stdout",
     "output_type": "stream",
     "text": [
      "pygame 2.5.2 (SDL 2.28.3, Python 3.11.7)\n",
      "Hello from the pygame community. https://www.pygame.org/contribute.html\n"
     ]
    }
   ],
   "source": [
    "import math\n",
    "import pygame\n",
    "import neat\n",
    "\n",
    "class Bus:\n",
    "    def __init__(self, x, y):\n",
    "        self.x = self.original_x = x\n",
    "        self.y = self.original_y = y\n",
    "\n",
    "    def move(self, direction):\n",
    "        if direction == \"left\":\n",
    "            self.x -= 1\n",
    "            self.lefts += 1\n",
    "        elif direction == \"right\":\n",
    "            self.x += 1\n",
    "            self.rights += 1\n",
    "        elif direction == \"up\":\n",
    "            self.y -= 1\n",
    "            self.ups += 1\n",
    "        elif direction == \"down\":\n",
    "            self.y += 1\n",
    "            self.downs += 1\n",
    "\n",
    "    def reset(self):\n",
    "        self.x = self.original_x\n",
    "        self.y = self.original_y\n"
   ]
  },
  {
   "cell_type": "code",
   "execution_count": null,
   "id": "0cf0fbe8-6287-42d6-9e38-98b6be7ef8ac",
   "metadata": {},
   "outputs": [],
   "source": []
  }
 ],
 "metadata": {
  "kernelspec": {
   "display_name": "Python 3 (ipykernel)",
   "language": "python",
   "name": "python3"
  },
  "language_info": {
   "codemirror_mode": {
    "name": "ipython",
    "version": 3
   },
   "file_extension": ".py",
   "mimetype": "text/x-python",
   "name": "python",
   "nbconvert_exporter": "python",
   "pygments_lexer": "ipython3",
   "version": "3.11.7"
  }
 },
 "nbformat": 4,
 "nbformat_minor": 5
}
